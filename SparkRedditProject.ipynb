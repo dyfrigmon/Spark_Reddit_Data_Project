{
 "cells": [
  {
   "cell_type": "markdown",
   "metadata": {},
   "source": [
    "<script>\n",
    "  jQuery(document).ready(function($) {  \n",
    "  \n",
    " $(window).load(function(){\n",
    "    $('#preloader').fadeOut('slow',function(){$(this).remove();});\n",
    "  });\n",
    "  \n",
    "  });\n",
    "</script>\n",
    "\n",
    "<style type=\"text/css\">\n",
    "div#preloader { position: fixed; \n",
    "      left: 0; \n",
    "      top: 0; \n",
    "      z-index: 999; \n",
    "      width: 100%; \n",
    "      height: 100%; \n",
    "      overflow: visible; \n",
    "      background: #fff url('http://preloaders.net/preloaders/720/Moving%20line.gif') no-repeat center center; \n",
    "  }\n",
    "\n",
    "</style>\n",
    "\n",
    "<div id=\"preloader\">\n",
    "\n",
    "</div>"
   ]
  },
  {
   "cell_type": "markdown",
   "metadata": {},
   "source": [
    "# Spark Reddit Project"
   ]
  },
  {
   "cell_type": "markdown",
   "metadata": {},
   "source": [
    "This project is an analysis of ~30GB of Reddit data. It was inspired by Insight Data Science Labs. I used Spark and pyspark to perform the heavy lifting. I set up the cluster on AWS using pegasus. I used 4 large instances with 3 worker nodes."
   ]
  },
  {
   "cell_type": "markdown",
   "metadata": {},
   "source": [
    "For a quick introduction to Reddit take a look at:\n",
    "    \n",
    "http://mashable.com/2012/06/06/reddit-for-beginners/#dMRqb5dNviqn"
   ]
  },
  {
   "cell_type": "code",
   "execution_count": 15,
   "metadata": {
    "collapsed": false
   },
   "outputs": [
    {
     "name": "stdout",
     "output_type": "stream",
     "text": [
      "Populating the interactive namespace from numpy and matplotlib\n"
     ]
    }
   ],
   "source": [
    "%pylab inline\n",
    "from pyspark.sql.types import *  "
   ]
  },
  {
   "cell_type": "markdown",
   "metadata": {},
   "source": [
    "Read in the data from May 2015."
   ]
  },
  {
   "cell_type": "code",
   "execution_count": 21,
   "metadata": {
    "collapsed": false
   },
   "outputs": [],
   "source": [
    "fields = [StructField(\"archived\", BooleanType(), True),  \n",
    "          StructField(\"author\", StringType(), True),\n",
    "          StructField(\"author_flair_css_class\", StringType(), True),\n",
    "          StructField(\"body\", StringType(), True),\n",
    "          StructField(\"controversiality\", LongType(), True),\n",
    "          StructField(\"created_utc\", StringType(), True),\n",
    "          StructField(\"distinguished\", StringType(), True),\n",
    "          StructField(\"downs\", LongType(), True),\n",
    "          StructField(\"edited\", StringType(), True),\n",
    "          StructField(\"gilded\", LongType(), True),\n",
    "          StructField(\"id\", StringType(), True),\n",
    "          StructField(\"link_id\", StringType(), True),\n",
    "          StructField(\"name\", StringType(), True),\n",
    "          StructField(\"parent_id\", StringType(), True),\n",
    "          StructField(\"retrieved_on\", LongType(), True),\n",
    "          StructField(\"score\", LongType(), True),\n",
    "          StructField(\"score_hidden\", BooleanType(), True),\n",
    "          StructField(\"subreddit\", StringType(), True),\n",
    "          StructField(\"subreddit_id\", StringType(), True),\n",
    "          StructField(\"ups\", LongType(), True)]\n",
    "\n",
    "rawDF = sqlContext.read.json(\"s3a://reddit-comments/2015/RC_2015-05\", StructType(fields)).persist(StorageLevel.MEMORY_AND_DISK_SER).registerTempTable(\"comments\")"
   ]
  },
  {
   "cell_type": "markdown",
   "metadata": {},
   "source": [
    "SQL query to gab 5 rows of data."
   ]
  },
  {
   "cell_type": "code",
   "execution_count": 25,
   "metadata": {
    "collapsed": false
   },
   "outputs": [],
   "source": [
    "first_5 = sqlContext.sql(\"\"\"  \n",
    "    SELECT *\n",
    "    FROM comments\n",
    "    LIMIT 5\n",
    "    \"\"\")"
   ]
  },
  {
   "cell_type": "markdown",
   "metadata": {},
   "source": [
    "Convert the dataframe to a pandas dataframe and display the first two rows."
   ]
  },
  {
   "cell_type": "code",
   "execution_count": 37,
   "metadata": {
    "collapsed": false
   },
   "outputs": [],
   "source": [
    "df = first_5.toPandas()"
   ]
  },
  {
   "cell_type": "code",
   "execution_count": 41,
   "metadata": {
    "collapsed": false
   },
   "outputs": [
    {
     "data": {
      "text/html": [
       "<div style=\"max-height:1000px;max-width:1500px;overflow:auto;\">\n",
       "<table border=\"1\" class=\"dataframe\">\n",
       "  <thead>\n",
       "    <tr style=\"text-align: right;\">\n",
       "      <th></th>\n",
       "      <th>archived</th>\n",
       "      <th>author</th>\n",
       "      <th>author_flair_css_class</th>\n",
       "      <th>body</th>\n",
       "      <th>controversiality</th>\n",
       "      <th>created_utc</th>\n",
       "      <th>distinguished</th>\n",
       "      <th>downs</th>\n",
       "      <th>edited</th>\n",
       "      <th>gilded</th>\n",
       "      <th>id</th>\n",
       "      <th>link_id</th>\n",
       "      <th>name</th>\n",
       "      <th>parent_id</th>\n",
       "      <th>retrieved_on</th>\n",
       "      <th>score</th>\n",
       "      <th>score_hidden</th>\n",
       "      <th>subreddit</th>\n",
       "      <th>subreddit_id</th>\n",
       "      <th>ups</th>\n",
       "    </tr>\n",
       "  </thead>\n",
       "  <tbody>\n",
       "    <tr>\n",
       "      <th>0</th>\n",
       "      <td> False</td>\n",
       "      <td> DingleBerryCobbler</td>\n",
       "      <td> None</td>\n",
       "      <td> Ah I thought the neighbor's dog would be shock...</td>\n",
       "      <td> 0</td>\n",
       "      <td> 1430440451</td>\n",
       "      <td> None</td>\n",
       "      <td> 0</td>\n",
       "      <td> false</td>\n",
       "      <td> 0</td>\n",
       "      <td> cquhi3b</td>\n",
       "      <td> t3_34eabd</td>\n",
       "      <td> t1_cquhi3b</td>\n",
       "      <td> t1_cqugsm8</td>\n",
       "      <td> 1432703669</td>\n",
       "      <td> 1</td>\n",
       "      <td> False</td>\n",
       "      <td> dogs</td>\n",
       "      <td> t5_2qhhk</td>\n",
       "      <td> 1</td>\n",
       "    </tr>\n",
       "    <tr>\n",
       "      <th>1</th>\n",
       "      <td> False</td>\n",
       "      <td>          [deleted]</td>\n",
       "      <td> None</td>\n",
       "      <td>                                         [deleted]</td>\n",
       "      <td> 0</td>\n",
       "      <td> 1430440451</td>\n",
       "      <td> None</td>\n",
       "      <td> 0</td>\n",
       "      <td> false</td>\n",
       "      <td> 0</td>\n",
       "      <td> cquhi3c</td>\n",
       "      <td> t3_34f72d</td>\n",
       "      <td> t1_cquhi3c</td>\n",
       "      <td>  t3_34f72d</td>\n",
       "      <td> 1432703669</td>\n",
       "      <td> 1</td>\n",
       "      <td> False</td>\n",
       "      <td> blog</td>\n",
       "      <td> t5_2qh49</td>\n",
       "      <td> 1</td>\n",
       "    </tr>\n",
       "  </tbody>\n",
       "</table>\n",
       "<p>2 rows × 20 columns</p>\n",
       "</div>"
      ],
      "text/plain": [
       "  archived              author author_flair_css_class  \\\n",
       "0    False  DingleBerryCobbler                   None   \n",
       "1    False           [deleted]                   None   \n",
       "\n",
       "                                                body  controversiality  \\\n",
       "0  Ah I thought the neighbor's dog would be shock...                 0   \n",
       "1                                          [deleted]                 0   \n",
       "\n",
       "  created_utc distinguished  downs edited  gilded       id    link_id  \\\n",
       "0  1430440451          None      0  false       0  cquhi3b  t3_34eabd   \n",
       "1  1430440451          None      0  false       0  cquhi3c  t3_34f72d   \n",
       "\n",
       "         name   parent_id  retrieved_on  score score_hidden subreddit  \\\n",
       "0  t1_cquhi3b  t1_cqugsm8    1432703669      1        False      dogs   \n",
       "1  t1_cquhi3c   t3_34f72d    1432703669      1        False      blog   \n",
       "\n",
       "  subreddit_id  ups  \n",
       "0     t5_2qhhk    1  \n",
       "1     t5_2qh49    1  \n",
       "\n",
       "[2 rows x 20 columns]"
      ]
     },
     "execution_count": 41,
     "metadata": {},
     "output_type": "execute_result"
    }
   ],
   "source": [
    "df.head(2)"
   ]
  },
  {
   "cell_type": "markdown",
   "metadata": {},
   "source": [
    "View the full comment in the first row."
   ]
  },
  {
   "cell_type": "code",
   "execution_count": 40,
   "metadata": {
    "collapsed": false
   },
   "outputs": [
    {
     "data": {
      "text/plain": [
       "u\"Ah I thought the neighbor's dog would be shocked/wearing it. What if the neighbor's dog gets through the hole?\""
      ]
     },
     "execution_count": 40,
     "metadata": {},
     "output_type": "execute_result"
    }
   ],
   "source": [
    "df.loc[0,'body']"
   ]
  },
  {
   "cell_type": "markdown",
   "metadata": {},
   "source": [
    "SQL query to find out how many unique authors are there in each sub Reddit."
   ]
  },
  {
   "cell_type": "code",
   "execution_count": 22,
   "metadata": {
    "collapsed": true
   },
   "outputs": [],
   "source": [
    "distinct_gilded_authors_by_subreddit = sqlContext.sql(\"\"\"  \n",
    "    SELECT subreddit, COUNT(DISTINCT author) as authors\n",
    "    FROM comments\n",
    "    WHERE gilded > 0\n",
    "    GROUP BY subreddit\n",
    "    ORDER BY authors DESC\n",
    "    \"\"\")"
   ]
  },
  {
   "cell_type": "code",
   "execution_count": 23,
   "metadata": {
    "collapsed": false
   },
   "outputs": [
    {
     "data": {
      "text/plain": [
       "[Row(subreddit=u'AskReddit', authors=2677),\n",
       " Row(subreddit=u'funny', authors=506),\n",
       " Row(subreddit=u'pics', authors=459),\n",
       " Row(subreddit=u'videos', authors=379),\n",
       " Row(subreddit=u'news', authors=355)]"
      ]
     },
     "execution_count": 23,
     "metadata": {},
     "output_type": "execute_result"
    }
   ],
   "source": [
    "distinct_gilded_authors_by_subreddit.take(5)"
   ]
  },
  {
   "cell_type": "markdown",
   "metadata": {},
   "source": [
    "Plot of subreddit vs number of unique authors. We see that AskReddit is the most popular, but funny and pics are up there."
   ]
  },
  {
   "cell_type": "code",
   "execution_count": 33,
   "metadata": {
    "collapsed": false
   },
   "outputs": [
    {
     "data": {
      "text/plain": [
       "<matplotlib.axes.AxesSubplot at 0x7f7fb0771a50>"
      ]
     },
     "execution_count": 33,
     "metadata": {},
     "output_type": "execute_result"
    },
    {
     "data": {
      "image/png": "[encoded data removed]",
      "text/plain": [
       "<matplotlib.figure.Figure at 0x7f7fb07717d0>"
      ]
     },
     "metadata": {},
     "output_type": "display_data"
    }
   ],
   "source": [
    "gilded_authors = distinct_gilded_authors_by_subreddit.toPandas()  \n",
    "gilded_authors[:20].plot(x='subreddit', y='authors', kind='barh', alpha=0.5)"
   ]
  },
  {
   "cell_type": "markdown",
   "metadata": {},
   "source": [
    "SQL query to find out what the average score of a comment is in for each subreddit."
   ]
  },
  {
   "cell_type": "code",
   "execution_count": 29,
   "metadata": {
    "collapsed": true
   },
   "outputs": [],
   "source": [
    "average_score_by_subreddit = sqlContext.sql(\"\"\"  \n",
    "    SELECT subreddit, AVG(score) as avg_score\n",
    "    FROM comments\n",
    "    GROUP BY subreddit\n",
    "    ORDER BY avg_score DESC\n",
    "    \"\"\")\n"
   ]
  },
  {
   "cell_type": "code",
   "execution_count": 30,
   "metadata": {
    "collapsed": false
   },
   "outputs": [
    {
     "data": {
      "text/plain": [
       "[Row(subreddit=u'karlsruhe', avg_score=73.3157894736842),\n",
       " Row(subreddit=u'picturesofiansleeping', avg_score=22.92391304347826),\n",
       " Row(subreddit=u'photoshopbattles', avg_score=21.04499959532738),\n",
       " Row(subreddit=u'behindthegifs', avg_score=20.62438118811881),\n",
       " Row(subreddit=u'IAmA', avg_score=18.381243801552937)]"
      ]
     },
     "execution_count": 30,
     "metadata": {},
     "output_type": "execute_result"
    }
   ],
   "source": [
    "average_score_by_subreddit.take(5)"
   ]
  },
  {
   "cell_type": "markdown",
   "metadata": {},
   "source": [
    "Plot of subreddit vs average score. We see that karlsrube is way a head of the others. It would be interesting to see to compare number of unique authors to average score."
   ]
  },
  {
   "cell_type": "code",
   "execution_count": 32,
   "metadata": {
    "collapsed": false
   },
   "outputs": [
    {
     "data": {
      "text/plain": [
       "<matplotlib.axes.AxesSubplot at 0x7f7fb06bb610>"
      ]
     },
     "execution_count": 32,
     "metadata": {},
     "output_type": "execute_result"
    },
    {
     "data": {
      "image/png": "[encoded data removed]",
      "text/plain": [
       "<matplotlib.figure.Figure at 0x7f7fb0665f90>"
      ]
     },
     "metadata": {},
     "output_type": "display_data"
    }
   ],
   "source": [
    "subreddit_score = average_score_by_subreddit.toPandas()  \n",
    "subreddit_score[:20].plot(x='subreddit', y='avg_score', kind='barh', alpha=0.5)  "
   ]
  },
  {
   "cell_type": "markdown",
   "metadata": {
    "collapsed": true
   },
   "source": [
    "Further work would look at using NLP to analyze the text of the comment body and perhaps using some machine learning to predict comment score."
   ]
  },
  {
   "cell_type": "markdown",
   "metadata": {},
   "source": [
    "<script>\n",
    "  $(document).ready(function(){\n",
    "    $('div.prompt').hide();\n",
    "    $('div.back-to-top').hide();\n",
    "    $('nav#menubar').hide();\n",
    "    $('.breadcrumb').hide();\n",
    "    $('.hidden-print').hide();\n",
    "  });\n",
    "</script>\n",
    "\n",
    "<footer id=\"attribution\" style=\"float:right; color:#999; background:#fff;\">\n",
    "Created with Jupyter, delivered by Fastly, rendered by Rackspace.\n",
    "</footer>\n",
    "\n",
    "<footer id=\"attribution\" style=\"float:left; color:#999; background:#fff;\">\n",
    "Author: Dyfrig Mon\n",
    "</footer>"
   ]
  }
 ],
 "metadata": {
  "kernelspec": {
   "display_name": "Python 2",
   "language": "python",
   "name": "python2"
  },
  "language_info": {
   "codemirror_mode": {
    "name": "ipython",
    "version": 2
   },
   "file_extension": ".py",
   "mimetype": "text/x-python",
   "name": "python",
   "nbconvert_exporter": "python",
   "pygments_lexer": "ipython2",
   "version": "2.7.11+"
  }
 },
 "nbformat": 4,
 "nbformat_minor": 0
}
